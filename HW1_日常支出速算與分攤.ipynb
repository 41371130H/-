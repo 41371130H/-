{
  "nbformat": 4,
  "nbformat_minor": 0,
  "metadata": {
    "colab": {
      "provenance": [],
      "authorship_tag": "ABX9TyPIV/VvKYGsFo81sBckJRJD",
      "include_colab_link": true
    },
    "kernelspec": {
      "name": "python3",
      "display_name": "Python 3"
    },
    "language_info": {
      "name": "python"
    }
  },
  "cells": [
    {
      "cell_type": "markdown",
      "metadata": {
        "id": "view-in-github",
        "colab_type": "text"
      },
      "source": [
        "<a href=\"https://colab.research.google.com/github/41371130H/PL-Repo/blob/main/HW1_%E6%97%A5%E5%B8%B8%E6%94%AF%E5%87%BA%E9%80%9F%E7%AE%97%E8%88%87%E5%88%86%E6%94%A4.ipynb\" target=\"_parent\"><img src=\"https://colab.research.google.com/assets/colab-badge.svg\" alt=\"Open In Colab\"/></a>"
      ]
    },
    {
      "cell_type": "markdown",
      "source": [
        "# 日常支出速算與分攤（作業一）\n",
        "*   目標：從 Sheet 讀「消費紀錄」→ 計總額/分類小計/AA 分攤 → 寫回 Sheet Summary 分頁。\n",
        "*   AI 點子（可選）：請模型總結本週花錢習慣與建議（例如「外食過多」）。\n",
        "*   Sheet 欄位：date, category, item, amount, payer\n",
        "\n"
      ],
      "metadata": {
        "id": "Lm8Cn1pXYMuT"
      }
    },
    {
      "cell_type": "code",
      "source": [
        "from google.colab import auth\n",
        "auth.authenticate_user()\n",
        "import gspread\n",
        "from google.auth import default\n",
        "creds, _ = default()\n",
        "gc = gspread.authorize(creds)\n",
        "\n",
        "import pandas as pd\n",
        "# read data and put it in a dataframe\n",
        "# 在 google 工作表載入 gsheets\n",
        "gsheets = gc.open_by_url('https://docs.google.com/spreadsheets/d/1KhaWfYSh2fGRmwC8SkZG8GdbTshYql4QX-hknk0ON84/edit?usp=sharing')\n",
        "\n",
        "\n",
        "# 從 gsheets 的 All-whiteboard-device 載入 sheets\n",
        "sheets = gsheets.worksheet('工作表1').get_all_values()\n",
        "# 將 sheets1 資料載入 pd 的 DataFrame 進行分析\n",
        "df = pd.DataFrame(sheets[1:], columns=sheets[0])\n",
        "# 取得最前面的5筆資料\n",
        "df.head()\n",
        "\n",
        "import datetime\n",
        "# 讓使用者輸入資料\n",
        "date_str = input(\"請輸入日期 (格式：YYYY-MM-DD): \")\n",
        "# 檢查日期格式是否正確\n",
        "datetime.datetime.strptime(date_str, '%Y-%m-%d')\n",
        "\n",
        "time_str = input(\"請輸入時間 (格式：HH:MM): \")\n",
        "# 檢查時間格式是否正確\n",
        "datetime.datetime.strptime(time_str, '%H:%M')\n",
        "\n",
        "item = input(\"請輸入品項: \")\n",
        "amount = float(input(\"請輸入金額: \"))\n",
        "\n",
        "# 創建一個新的 DataFrame 來代表你要新增的資料\n",
        "new_data = pd.DataFrame([{\n",
        "    '日期': date_str,\n",
        "    '時間': time_str,\n",
        "    '品項': item,\n",
        "    '金額': amount\n",
        "}])\n",
        "\n",
        "# 使用 concat() 將新資料合併到舊的 df 中\n",
        "df = pd.concat([df, new_data], ignore_index=True)\n",
        "\n",
        "# 將 DataFrame 轉換成列表的列表 (list of lists)，這是 gspread 支援的資料格式\n",
        "data_to_write = df.values.tolist()\n",
        "\n",
        "# 第一步：取得工作表物件\n",
        "worksheet = gsheets.worksheet('工作表1')\n",
        "\n",
        "# 第二步：將資料寫入工作表\n",
        "worksheet.append_rows(values=data_to_write, value_input_option='USER_ENTERED')\n",
        "print(\"資料已成功寫入 Google 工作表！\")"
      ],
      "metadata": {
        "colab": {
          "base_uri": "https://localhost:8080/"
        },
        "id": "tjW_sq0JjTG3",
        "outputId": "e3b2eddb-65ff-4254-8a3c-f73cb67f3e63"
      },
      "execution_count": 16,
      "outputs": [
        {
          "name": "stdout",
          "output_type": "stream",
          "text": [
            "請輸入日期 (格式：YYYY-MM-DD): 2025-09-11\n",
            "請輸入時間 (格式：HH:MM): 10:30\n",
            "請輸入品項: 早餐\n",
            "請輸入金額: 100\n"
          ]
        },
        {
          "output_type": "stream",
          "name": "stderr",
          "text": [
            "/tmp/ipython-input-309751333.py:51: FutureWarning: The behavior of DataFrame concatenation with empty or all-NA entries is deprecated. In a future version, this will no longer exclude empty or all-NA columns when determining the result dtypes. To retain the old behavior, exclude the relevant entries before the concat operation.\n",
            "  df = pd.concat([df, new_data], ignore_index=True)\n"
          ]
        },
        {
          "output_type": "stream",
          "name": "stdout",
          "text": [
            "資料已成功寫入 Google 工作表！\n"
          ]
        }
      ]
    }
  ]
}